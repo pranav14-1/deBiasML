{
 "cells": [
  {
   "cell_type": "code",
   "execution_count": 58,
   "id": "79d09b66-6595-4d83-9f1f-1c38e7d30ab3",
   "metadata": {},
   "outputs": [],
   "source": [
    "import numpy as np\n",
    "import pandas as pd"
   ]
  },
  {
   "cell_type": "code",
   "execution_count": 59,
   "id": "786583cf-16a1-43f6-b98c-1d6b3bf1bfa0",
   "metadata": {},
   "outputs": [
    {
     "data": {
      "text/html": [
       "<div>\n",
       "<style scoped>\n",
       "    .dataframe tbody tr th:only-of-type {\n",
       "        vertical-align: middle;\n",
       "    }\n",
       "\n",
       "    .dataframe tbody tr th {\n",
       "        vertical-align: top;\n",
       "    }\n",
       "\n",
       "    .dataframe thead th {\n",
       "        text-align: right;\n",
       "    }\n",
       "</style>\n",
       "<table border=\"1\" class=\"dataframe\">\n",
       "  <thead>\n",
       "    <tr style=\"text-align: right;\">\n",
       "      <th></th>\n",
       "      <th>name</th>\n",
       "      <th>gender</th>\n",
       "      <th>college_tier</th>\n",
       "      <th>skills</th>\n",
       "      <th>project_count</th>\n",
       "      <th>internship_count</th>\n",
       "      <th>experience_type</th>\n",
       "      <th>location</th>\n",
       "      <th>target_company</th>\n",
       "      <th>shortlisted</th>\n",
       "    </tr>\n",
       "  </thead>\n",
       "  <tbody>\n",
       "    <tr>\n",
       "      <th>0</th>\n",
       "      <td>Aranav</td>\n",
       "      <td>Female</td>\n",
       "      <td>Tier 2</td>\n",
       "      <td>CSS, Python</td>\n",
       "      <td>2</td>\n",
       "      <td>1</td>\n",
       "      <td>Internship</td>\n",
       "      <td>Chennai</td>\n",
       "      <td>Amazon</td>\n",
       "      <td>1</td>\n",
       "    </tr>\n",
       "    <tr>\n",
       "      <th>1</th>\n",
       "      <td>Ishita</td>\n",
       "      <td>Male</td>\n",
       "      <td>Tier 1</td>\n",
       "      <td>DSA, Tableau, HTML, Power BI, JavaScript</td>\n",
       "      <td>3</td>\n",
       "      <td>2</td>\n",
       "      <td>Internship</td>\n",
       "      <td>Delhi</td>\n",
       "      <td>Amazon</td>\n",
       "      <td>1</td>\n",
       "    </tr>\n",
       "    <tr>\n",
       "      <th>2</th>\n",
       "      <td>Meera</td>\n",
       "      <td>Male</td>\n",
       "      <td>Tier 3</td>\n",
       "      <td>HTML, DSA, Tableau, JavaScript, Python</td>\n",
       "      <td>2</td>\n",
       "      <td>0</td>\n",
       "      <td>Open-source</td>\n",
       "      <td>Mumbai</td>\n",
       "      <td>Flipkart</td>\n",
       "      <td>0</td>\n",
       "    </tr>\n",
       "    <tr>\n",
       "      <th>3</th>\n",
       "      <td>Aditya</td>\n",
       "      <td>Female</td>\n",
       "      <td>Tier 3</td>\n",
       "      <td>CSS, SQL</td>\n",
       "      <td>3</td>\n",
       "      <td>1</td>\n",
       "      <td>Internship</td>\n",
       "      <td>Delhi</td>\n",
       "      <td>Zomato</td>\n",
       "      <td>0</td>\n",
       "    </tr>\n",
       "    <tr>\n",
       "      <th>4</th>\n",
       "      <td>Divya</td>\n",
       "      <td>Female</td>\n",
       "      <td>Tier 1</td>\n",
       "      <td>Python, DSA, ML</td>\n",
       "      <td>2</td>\n",
       "      <td>0</td>\n",
       "      <td>NaN</td>\n",
       "      <td>Pune</td>\n",
       "      <td>Infosys</td>\n",
       "      <td>0</td>\n",
       "    </tr>\n",
       "  </tbody>\n",
       "</table>\n",
       "</div>"
      ],
      "text/plain": [
       "     name  gender college_tier                                    skills  \\\n",
       "0  Aranav  Female       Tier 2                               CSS, Python   \n",
       "1  Ishita    Male       Tier 1  DSA, Tableau, HTML, Power BI, JavaScript   \n",
       "2   Meera    Male       Tier 3    HTML, DSA, Tableau, JavaScript, Python   \n",
       "3  Aditya  Female       Tier 3                                  CSS, SQL   \n",
       "4   Divya  Female       Tier 1                           Python, DSA, ML   \n",
       "\n",
       "   project_count  internship_count experience_type location target_company  \\\n",
       "0              2                 1      Internship  Chennai         Amazon   \n",
       "1              3                 2      Internship    Delhi         Amazon   \n",
       "2              2                 0     Open-source   Mumbai       Flipkart   \n",
       "3              3                 1      Internship    Delhi         Zomato   \n",
       "4              2                 0             NaN     Pune        Infosys   \n",
       "\n",
       "   shortlisted  \n",
       "0            1  \n",
       "1            1  \n",
       "2            0  \n",
       "3            0  \n",
       "4            0  "
      ]
     },
     "execution_count": 59,
     "metadata": {},
     "output_type": "execute_result"
    }
   ],
   "source": [
    "resume=pd.read_csv('resume_data.csv')\n",
    "resume.head()"
   ]
  },
  {
   "cell_type": "code",
   "execution_count": 60,
   "id": "487ac8e3-82ad-483a-b7bd-0455789a9b7c",
   "metadata": {},
   "outputs": [
    {
     "name": "stdout",
     "output_type": "stream",
     "text": [
      "<class 'pandas.core.frame.DataFrame'>\n",
      "RangeIndex: 200 entries, 0 to 199\n",
      "Data columns (total 10 columns):\n",
      " #   Column            Non-Null Count  Dtype \n",
      "---  ------            --------------  ----- \n",
      " 0   name              200 non-null    object\n",
      " 1   gender            200 non-null    object\n",
      " 2   college_tier      200 non-null    object\n",
      " 3   skills            200 non-null    object\n",
      " 4   project_count     200 non-null    int64 \n",
      " 5   internship_count  200 non-null    int64 \n",
      " 6   experience_type   186 non-null    object\n",
      " 7   location          200 non-null    object\n",
      " 8   target_company    200 non-null    object\n",
      " 9   shortlisted       200 non-null    int64 \n",
      "dtypes: int64(3), object(7)\n",
      "memory usage: 15.8+ KB\n"
     ]
    }
   ],
   "source": [
    "resume.info()"
   ]
  },
  {
   "cell_type": "code",
   "execution_count": 61,
   "id": "ed0a3493-544f-4fd1-ac76-2fae7a7cf902",
   "metadata": {},
   "outputs": [
    {
     "data": {
      "text/plain": [
       "shortlisted\n",
       "1    138\n",
       "0     62\n",
       "Name: count, dtype: int64"
      ]
     },
     "execution_count": 61,
     "metadata": {},
     "output_type": "execute_result"
    }
   ],
   "source": [
    "resume['shortlisted'].value_counts()"
   ]
  },
  {
   "cell_type": "code",
   "execution_count": 62,
   "id": "1cc507cb-8368-407a-ad39-94e1c7344638",
   "metadata": {},
   "outputs": [],
   "source": [
    "# Fix gender and tier mapping (clean text first)\n",
    "resume['gender'] = resume['gender'].str.strip().str.title().map({\"Male\": 0, \"Female\": 1})\n",
    "resume['college_tier'] = resume['college_tier'].str.strip().str.title().map({\n",
    "    \"Tier 1\": 1,\n",
    "    \"Tier 2\": 2,\n",
    "    \"Tier 3\": 3\n",
    "})\n",
    "\n",
    "# One-hot encode multiple categorical columns\n",
    "resume = pd.get_dummies(resume, columns=['location', 'experience_type', 'target_company'])\n",
    "\n",
    "# Convert all boolean columns to 0/1\n",
    "bool_cols = resume.select_dtypes(include=['bool']).columns\n",
    "resume[bool_cols] = resume[bool_cols].astype(int)\n",
    "resume.drop(columns=['name'],inplace=True)"
   ]
  },
  {
   "cell_type": "code",
   "execution_count": 63,
   "id": "f9ee724c-5301-47be-87ca-cba0970a68d0",
   "metadata": {},
   "outputs": [],
   "source": [
    "# Extract unique skills\n",
    "unique_skills = set()\n",
    "\n",
    "# Loop over each row to collect unique skills\n",
    "for skill_list in resume[\"skills\"]:\n",
    "    for skill in skill_list.split(\",\"):\n",
    "        cleaned_skill = skill.strip().lower()\n",
    "        if cleaned_skill:\n",
    "            unique_skills.add(cleaned_skill)\n",
    "\n",
    "#Create binary columns for each unique skill\n",
    "for skill in unique_skills:\n",
    "    # Create a column like has_python, has_java, etc.\n",
    "    resume[f\"has_{skill}\"] = resume[\"skills\"].str.lower().str.contains(skill).astype(int)\n",
    "\n",
    "#Drop the original 'skills' column\n",
    "resume.drop(columns=[\"skills\"], inplace=True)\n"
   ]
  },
  {
   "cell_type": "code",
   "execution_count": 64,
   "id": "6a7a8239-695a-4ff9-a248-a7dbc7e675fe",
   "metadata": {},
   "outputs": [
    {
     "data": {
      "text/html": [
       "<div>\n",
       "<style scoped>\n",
       "    .dataframe tbody tr th:only-of-type {\n",
       "        vertical-align: middle;\n",
       "    }\n",
       "\n",
       "    .dataframe tbody tr th {\n",
       "        vertical-align: top;\n",
       "    }\n",
       "\n",
       "    .dataframe thead th {\n",
       "        text-align: right;\n",
       "    }\n",
       "</style>\n",
       "<table border=\"1\" class=\"dataframe\">\n",
       "  <thead>\n",
       "    <tr style=\"text-align: right;\">\n",
       "      <th></th>\n",
       "      <th>gender</th>\n",
       "      <th>college_tier</th>\n",
       "      <th>project_count</th>\n",
       "      <th>internship_count</th>\n",
       "      <th>shortlisted</th>\n",
       "      <th>location_Bangalore</th>\n",
       "      <th>location_Chennai</th>\n",
       "      <th>location_Delhi</th>\n",
       "      <th>location_Hyderabad</th>\n",
       "      <th>location_Mumbai</th>\n",
       "      <th>...</th>\n",
       "      <th>has_javascript</th>\n",
       "      <th>has_html</th>\n",
       "      <th>has_sql</th>\n",
       "      <th>has_power bi</th>\n",
       "      <th>has_tableau</th>\n",
       "      <th>has_python</th>\n",
       "      <th>has_css</th>\n",
       "      <th>has_java</th>\n",
       "      <th>has_ml</th>\n",
       "      <th>has_dsa</th>\n",
       "    </tr>\n",
       "  </thead>\n",
       "  <tbody>\n",
       "    <tr>\n",
       "      <th>0</th>\n",
       "      <td>1</td>\n",
       "      <td>2</td>\n",
       "      <td>2</td>\n",
       "      <td>1</td>\n",
       "      <td>1</td>\n",
       "      <td>0</td>\n",
       "      <td>1</td>\n",
       "      <td>0</td>\n",
       "      <td>0</td>\n",
       "      <td>0</td>\n",
       "      <td>...</td>\n",
       "      <td>0</td>\n",
       "      <td>0</td>\n",
       "      <td>0</td>\n",
       "      <td>0</td>\n",
       "      <td>0</td>\n",
       "      <td>1</td>\n",
       "      <td>1</td>\n",
       "      <td>0</td>\n",
       "      <td>0</td>\n",
       "      <td>0</td>\n",
       "    </tr>\n",
       "    <tr>\n",
       "      <th>1</th>\n",
       "      <td>0</td>\n",
       "      <td>1</td>\n",
       "      <td>3</td>\n",
       "      <td>2</td>\n",
       "      <td>1</td>\n",
       "      <td>0</td>\n",
       "      <td>0</td>\n",
       "      <td>1</td>\n",
       "      <td>0</td>\n",
       "      <td>0</td>\n",
       "      <td>...</td>\n",
       "      <td>1</td>\n",
       "      <td>1</td>\n",
       "      <td>0</td>\n",
       "      <td>1</td>\n",
       "      <td>1</td>\n",
       "      <td>0</td>\n",
       "      <td>0</td>\n",
       "      <td>1</td>\n",
       "      <td>1</td>\n",
       "      <td>1</td>\n",
       "    </tr>\n",
       "    <tr>\n",
       "      <th>2</th>\n",
       "      <td>0</td>\n",
       "      <td>3</td>\n",
       "      <td>2</td>\n",
       "      <td>0</td>\n",
       "      <td>0</td>\n",
       "      <td>0</td>\n",
       "      <td>0</td>\n",
       "      <td>0</td>\n",
       "      <td>0</td>\n",
       "      <td>1</td>\n",
       "      <td>...</td>\n",
       "      <td>1</td>\n",
       "      <td>1</td>\n",
       "      <td>0</td>\n",
       "      <td>0</td>\n",
       "      <td>1</td>\n",
       "      <td>1</td>\n",
       "      <td>0</td>\n",
       "      <td>1</td>\n",
       "      <td>1</td>\n",
       "      <td>1</td>\n",
       "    </tr>\n",
       "    <tr>\n",
       "      <th>3</th>\n",
       "      <td>1</td>\n",
       "      <td>3</td>\n",
       "      <td>3</td>\n",
       "      <td>1</td>\n",
       "      <td>0</td>\n",
       "      <td>0</td>\n",
       "      <td>0</td>\n",
       "      <td>1</td>\n",
       "      <td>0</td>\n",
       "      <td>0</td>\n",
       "      <td>...</td>\n",
       "      <td>0</td>\n",
       "      <td>0</td>\n",
       "      <td>1</td>\n",
       "      <td>0</td>\n",
       "      <td>0</td>\n",
       "      <td>0</td>\n",
       "      <td>1</td>\n",
       "      <td>0</td>\n",
       "      <td>0</td>\n",
       "      <td>0</td>\n",
       "    </tr>\n",
       "    <tr>\n",
       "      <th>4</th>\n",
       "      <td>1</td>\n",
       "      <td>1</td>\n",
       "      <td>2</td>\n",
       "      <td>0</td>\n",
       "      <td>0</td>\n",
       "      <td>0</td>\n",
       "      <td>0</td>\n",
       "      <td>0</td>\n",
       "      <td>0</td>\n",
       "      <td>0</td>\n",
       "      <td>...</td>\n",
       "      <td>0</td>\n",
       "      <td>0</td>\n",
       "      <td>0</td>\n",
       "      <td>0</td>\n",
       "      <td>0</td>\n",
       "      <td>1</td>\n",
       "      <td>0</td>\n",
       "      <td>0</td>\n",
       "      <td>1</td>\n",
       "      <td>1</td>\n",
       "    </tr>\n",
       "  </tbody>\n",
       "</table>\n",
       "<p>5 rows × 32 columns</p>\n",
       "</div>"
      ],
      "text/plain": [
       "   gender  college_tier  project_count  internship_count  shortlisted  \\\n",
       "0       1             2              2                 1            1   \n",
       "1       0             1              3                 2            1   \n",
       "2       0             3              2                 0            0   \n",
       "3       1             3              3                 1            0   \n",
       "4       1             1              2                 0            0   \n",
       "\n",
       "   location_Bangalore  location_Chennai  location_Delhi  location_Hyderabad  \\\n",
       "0                   0                 1               0                   0   \n",
       "1                   0                 0               1                   0   \n",
       "2                   0                 0               0                   0   \n",
       "3                   0                 0               1                   0   \n",
       "4                   0                 0               0                   0   \n",
       "\n",
       "   location_Mumbai  ...  has_javascript  has_html  has_sql  has_power bi  \\\n",
       "0                0  ...               0         0        0             0   \n",
       "1                0  ...               1         1        0             1   \n",
       "2                1  ...               1         1        0             0   \n",
       "3                0  ...               0         0        1             0   \n",
       "4                0  ...               0         0        0             0   \n",
       "\n",
       "   has_tableau  has_python  has_css  has_java  has_ml  has_dsa  \n",
       "0            0           1        1         0       0        0  \n",
       "1            1           0        0         1       1        1  \n",
       "2            1           1        0         1       1        1  \n",
       "3            0           0        1         0       0        0  \n",
       "4            0           1        0         0       1        1  \n",
       "\n",
       "[5 rows x 32 columns]"
      ]
     },
     "execution_count": 64,
     "metadata": {},
     "output_type": "execute_result"
    }
   ],
   "source": [
    "resume.head()"
   ]
  },
  {
   "cell_type": "code",
   "execution_count": 65,
   "id": "44a17760-4e7e-46ab-afc8-43371fe51ae2",
   "metadata": {},
   "outputs": [],
   "source": [
    "X=resume.drop(columns=['shortlisted'])\n",
    "Y=resume['shortlisted']"
   ]
  },
  {
   "cell_type": "code",
   "execution_count": 66,
   "id": "8ebafa83-b3cd-450c-a32c-98180b3cbffb",
   "metadata": {},
   "outputs": [],
   "source": [
    "from sklearn.model_selection import train_test_split\n",
    "X_train,X_test,Y_train,Y_test=train_test_split(X,Y,test_size=0.2,random_state=42,stratify=y)"
   ]
  },
  {
   "cell_type": "code",
   "execution_count": 67,
   "id": "9baa4818-a62e-4856-8485-105401f6d289",
   "metadata": {},
   "outputs": [
    {
     "data": {
      "text/plain": [
       "((40, 31), (40,))"
      ]
     },
     "execution_count": 67,
     "metadata": {},
     "output_type": "execute_result"
    }
   ],
   "source": [
    "X_train.shape,Y_train.shape\n",
    "X_test.shape,Y_test.shape"
   ]
  },
  {
   "cell_type": "code",
   "execution_count": 68,
   "id": "d7f379eb-df66-46de-95de-7ed934f6f9e3",
   "metadata": {},
   "outputs": [],
   "source": [
    "from imblearn.over_sampling import SMOTE\n",
    "smote=SMOTE(random_state=42)\n",
    "X_resampled,Y_resampled=smote.fit_resample(X_train,Y_train)"
   ]
  },
  {
   "cell_type": "code",
   "execution_count": 69,
   "id": "b2429443-6c0c-4b0a-9e1a-ee06e4d42370",
   "metadata": {},
   "outputs": [
    {
     "data": {
      "text/html": [
       "<style>#sk-container-id-7 {color: black;background-color: white;}#sk-container-id-7 pre{padding: 0;}#sk-container-id-7 div.sk-toggleable {background-color: white;}#sk-container-id-7 label.sk-toggleable__label {cursor: pointer;display: block;width: 100%;margin-bottom: 0;padding: 0.3em;box-sizing: border-box;text-align: center;}#sk-container-id-7 label.sk-toggleable__label-arrow:before {content: \"▸\";float: left;margin-right: 0.25em;color: #696969;}#sk-container-id-7 label.sk-toggleable__label-arrow:hover:before {color: black;}#sk-container-id-7 div.sk-estimator:hover label.sk-toggleable__label-arrow:before {color: black;}#sk-container-id-7 div.sk-toggleable__content {max-height: 0;max-width: 0;overflow: hidden;text-align: left;background-color: #f0f8ff;}#sk-container-id-7 div.sk-toggleable__content pre {margin: 0.2em;color: black;border-radius: 0.25em;background-color: #f0f8ff;}#sk-container-id-7 input.sk-toggleable__control:checked~div.sk-toggleable__content {max-height: 200px;max-width: 100%;overflow: auto;}#sk-container-id-7 input.sk-toggleable__control:checked~label.sk-toggleable__label-arrow:before {content: \"▾\";}#sk-container-id-7 div.sk-estimator input.sk-toggleable__control:checked~label.sk-toggleable__label {background-color: #d4ebff;}#sk-container-id-7 div.sk-label input.sk-toggleable__control:checked~label.sk-toggleable__label {background-color: #d4ebff;}#sk-container-id-7 input.sk-hidden--visually {border: 0;clip: rect(1px 1px 1px 1px);clip: rect(1px, 1px, 1px, 1px);height: 1px;margin: -1px;overflow: hidden;padding: 0;position: absolute;width: 1px;}#sk-container-id-7 div.sk-estimator {font-family: monospace;background-color: #f0f8ff;border: 1px dotted black;border-radius: 0.25em;box-sizing: border-box;margin-bottom: 0.5em;}#sk-container-id-7 div.sk-estimator:hover {background-color: #d4ebff;}#sk-container-id-7 div.sk-parallel-item::after {content: \"\";width: 100%;border-bottom: 1px solid gray;flex-grow: 1;}#sk-container-id-7 div.sk-label:hover label.sk-toggleable__label {background-color: #d4ebff;}#sk-container-id-7 div.sk-serial::before {content: \"\";position: absolute;border-left: 1px solid gray;box-sizing: border-box;top: 0;bottom: 0;left: 50%;z-index: 0;}#sk-container-id-7 div.sk-serial {display: flex;flex-direction: column;align-items: center;background-color: white;padding-right: 0.2em;padding-left: 0.2em;position: relative;}#sk-container-id-7 div.sk-item {position: relative;z-index: 1;}#sk-container-id-7 div.sk-parallel {display: flex;align-items: stretch;justify-content: center;background-color: white;position: relative;}#sk-container-id-7 div.sk-item::before, #sk-container-id-7 div.sk-parallel-item::before {content: \"\";position: absolute;border-left: 1px solid gray;box-sizing: border-box;top: 0;bottom: 0;left: 50%;z-index: -1;}#sk-container-id-7 div.sk-parallel-item {display: flex;flex-direction: column;z-index: 1;position: relative;background-color: white;}#sk-container-id-7 div.sk-parallel-item:first-child::after {align-self: flex-end;width: 50%;}#sk-container-id-7 div.sk-parallel-item:last-child::after {align-self: flex-start;width: 50%;}#sk-container-id-7 div.sk-parallel-item:only-child::after {width: 0;}#sk-container-id-7 div.sk-dashed-wrapped {border: 1px dashed gray;margin: 0 0.4em 0.5em 0.4em;box-sizing: border-box;padding-bottom: 0.4em;background-color: white;}#sk-container-id-7 div.sk-label label {font-family: monospace;font-weight: bold;display: inline-block;line-height: 1.2em;}#sk-container-id-7 div.sk-label-container {text-align: center;}#sk-container-id-7 div.sk-container {/* jupyter's `normalize.less` sets `[hidden] { display: none; }` but bootstrap.min.css set `[hidden] { display: none !important; }` so we also need the `!important` here to be able to override the default hidden behavior on the sphinx rendered scikit-learn.org. See: https://github.com/scikit-learn/scikit-learn/issues/21755 */display: inline-block !important;position: relative;}#sk-container-id-7 div.sk-text-repr-fallback {display: none;}</style><div id=\"sk-container-id-7\" class=\"sk-top-container\"><div class=\"sk-text-repr-fallback\"><pre>RandomForestClassifier(class_weight=&#x27;balanced&#x27;, random_state=42)</pre><b>In a Jupyter environment, please rerun this cell to show the HTML representation or trust the notebook. <br />On GitHub, the HTML representation is unable to render, please try loading this page with nbviewer.org.</b></div><div class=\"sk-container\" hidden><div class=\"sk-item\"><div class=\"sk-estimator sk-toggleable\"><input class=\"sk-toggleable__control sk-hidden--visually\" id=\"sk-estimator-id-7\" type=\"checkbox\" checked><label for=\"sk-estimator-id-7\" class=\"sk-toggleable__label sk-toggleable__label-arrow\">RandomForestClassifier</label><div class=\"sk-toggleable__content\"><pre>RandomForestClassifier(class_weight=&#x27;balanced&#x27;, random_state=42)</pre></div></div></div></div></div>"
      ],
      "text/plain": [
       "RandomForestClassifier(class_weight='balanced', random_state=42)"
      ]
     },
     "execution_count": 69,
     "metadata": {},
     "output_type": "execute_result"
    }
   ],
   "source": [
    "from sklearn.ensemble import RandomForestClassifier\n",
    "model=RandomForestClassifier(class_weight=\"balanced\",random_state=42)\n",
    "model.fit(X_resampled,Y_resampled)"
   ]
  },
  {
   "cell_type": "code",
   "execution_count": 70,
   "id": "8b183979-65e5-44b3-8be1-cb5959d7fc19",
   "metadata": {},
   "outputs": [
    {
     "name": "stdout",
     "output_type": "stream",
     "text": [
      "              precision    recall  f1-score   support\n",
      "\n",
      "           0       0.54      0.58      0.56        12\n",
      "           1       0.81      0.79      0.80        28\n",
      "\n",
      "    accuracy                           0.73        40\n",
      "   macro avg       0.68      0.68      0.68        40\n",
      "weighted avg       0.73      0.72      0.73        40\n",
      "\n"
     ]
    }
   ],
   "source": [
    "from sklearn.metrics import classification_report\n",
    "preds=model.predict(X_test)\n",
    "print(classification_report(Y_test,preds))"
   ]
  },
  {
   "cell_type": "code",
   "execution_count": 71,
   "id": "ff2feedc-6bc7-4e29-9c27-76fe4118bfc4",
   "metadata": {},
   "outputs": [
    {
     "name": "stdout",
     "output_type": "stream",
     "text": [
      "has_ml: 0.0319\n",
      "target_company_Zomato: 0.0324\n",
      "has_tableau: 0.0342\n",
      "gender: 0.0388\n",
      "has_css: 0.0423\n",
      "has_sql: 0.0532\n",
      "internship_count: 0.0674\n",
      "experience_type_Internship: 0.0716\n",
      "project_count: 0.0807\n",
      "college_tier: 0.1440\n"
     ]
    },
    {
     "data": {
      "image/png": "[encoded data removed]",
      "text/plain": [
       "<Figure size 640x480 with 1 Axes>"
      ]
     },
     "metadata": {},
     "output_type": "display_data"
    }
   ],
   "source": [
    "#check for which features effect the resume most \n",
    "import matplotlib.pyplot as plt\n",
    "importance=model.feature_importances_\n",
    "features=X.columns\n",
    "#top 10 features\n",
    "sorted_idx=importance.argsort()[-10:]\n",
    "for i in sorted_idx:\n",
    "    print(f\"{features[i]}: {importance[i]:.4f}\")\n",
    "\n",
    "plt.barh(features[sorted_idx],importance[sorted_idx])\n",
    "plt.xlabel('Importance')\n",
    "plt.ylabel('Top 10 Features')\n",
    "plt.show()"
   ]
  },
  {
   "cell_type": "code",
   "execution_count": 72,
   "id": "59d01c7b-c76a-456d-a489-ec506d1ab6b3",
   "metadata": {},
   "outputs": [
    {
     "name": "stderr",
     "output_type": "stream",
     "text": [
      "/home/pranav/anaconda3/lib/python3.11/site-packages/sklearn/base.py:439: UserWarning: X does not have valid feature names, but RandomForestClassifier was fitted with feature names\n",
      "  warnings.warn(\n"
     ]
    },
    {
     "data": {
      "text/plain": [
       "array([1])"
      ]
     },
     "execution_count": 72,
     "metadata": {},
     "output_type": "execute_result"
    }
   ],
   "source": [
    "user_resume=X_test.iloc[5]\n",
    "model.predict([user_resume])"
   ]
  },
  {
   "cell_type": "code",
   "execution_count": 74,
   "id": "54fe358f-2f2c-42e7-86d7-2a72e06f287d",
   "metadata": {},
   "outputs": [],
   "source": [
    "import pandas as pd\n",
    "\n",
    "feature_importances = pd.Series(model.feature_importances_, index=X_train.columns)\n",
    "feature_importances = feature_importances.sort_values(ascending=False)\n"
   ]
  },
  {
   "cell_type": "code",
   "execution_count": 79,
   "id": "9670c97b-950d-414d-8f9c-6c461d9e4c46",
   "metadata": {},
   "outputs": [
    {
     "name": "stdout",
     "output_type": "stream",
     "text": [
      "college_tier: user = 3, average shortlisted = 1.86\n",
      "project_count: user = 4, average shortlisted = 2.34\n",
      "experience_type_Internship: user = 1, average shortlisted = 0.75\n",
      "internship_count: user = 2, average shortlisted = 1.15\n",
      "has_sql: user = 1, average shortlisted = 0.45\n"
     ]
    }
   ],
   "source": [
    "shortlisted_resume=X_train[Y_train==1]\n",
    "for feat in feature_importances.head(5).index:\n",
    "    user_val=user_resume[feat]\n",
    "    avg_val=shortlisted_resume[feat].mean()\n",
    "    print(f\"{feat}: user = {user_val}, average shortlisted = {avg_val:.2f}\")"
   ]
  },
  {
   "cell_type": "code",
   "execution_count": 82,
   "id": "56228cc3-99c1-4626-b465-f92fdb207676",
   "metadata": {},
   "outputs": [],
   "source": [
    "def generate_feedback(user_vector, model, X_train, y_train, top_n=5):\n",
    "    shortlisted = X_train[y_train == 1]\n",
    "    feature_importances = pd.Series(model.feature_importances_, index=X_train.columns)\n",
    "    feature_importances = feature_importances.sort_values(ascending=False)\n",
    "\n",
    "    # List of features we should NOT give feedback on\n",
    "    unchangeable_features = ['college_tier', 'gender', 'location_Tier 1', 'location_Tier 2', 'location_Tier 3']\n",
    "\n",
    "    feedback = []\n",
    "    for feat in feature_importances.index:\n",
    "        if feat in unchangeable_features:\n",
    "            continue  # skip it\n",
    "\n",
    "        user_val = user_vector[feat]\n",
    "        avg_val = shortlisted[feat].mean()\n",
    "\n",
    "        if user_val < avg_val:\n",
    "            feedback.append(f\"You may improve your chances by improving: {feat.replace('_', ' ')}\")\n",
    "\n",
    "        if len(feedback) >= top_n:\n",
    "            break\n",
    "\n",
    "    return feedback\n"
   ]
  },
  {
   "cell_type": "code",
   "execution_count": 83,
   "id": "7537e908-1adf-4190-8916-a506afab0e84",
   "metadata": {},
   "outputs": [
    {
     "name": "stdout",
     "output_type": "stream",
     "text": [
      "🔎 You may improve your chances by improving: experience type Internship\n",
      "🔎 You may improve your chances by improving: internship count\n",
      "🔎 You may improve your chances by improving: has sql\n",
      "🔎 You may improve your chances by improving: target company Zomato\n",
      "🔎 You may improve your chances by improving: location Delhi\n"
     ]
    }
   ],
   "source": [
    "user_resume = X_test.iloc[0] \n",
    "feedback = generate_feedback(user_resume, model, X_train, Y_train)\n",
    "for line in feedback:\n",
    "    print(\"🔎\", line)"
   ]
  },
  {
   "cell_type": "code",
   "execution_count": 84,
   "id": "7cf89181-388c-433b-b00b-fcc63eefbd97",
   "metadata": {},
   "outputs": [],
   "source": [
    "import pickle\n",
    "\n",
    "with open('resume_model.pkl', 'wb') as f:\n",
    "    pickle.dump(model, f)\n"
   ]
  },
  {
   "cell_type": "code",
   "execution_count": 85,
   "id": "a1e6ac1e-ff13-49eb-bdbe-3f469c3e8ed3",
   "metadata": {},
   "outputs": [],
   "source": [
    "with open('columns.pkl', 'wb') as f:\n",
    "    pickle.dump(X_train.columns.tolist(), f)\n"
   ]
  },
  {
   "cell_type": "code",
   "execution_count": null,
   "id": "e6100bfd-2f06-4879-bd9f-99ca08d3b306",
   "metadata": {},
   "outputs": [],
   "source": []
  }
 ],
 "metadata": {
  "kernelspec": {
   "display_name": "Python 3 (ipykernel)",
   "language": "python",
   "name": "python3"
  },
  "language_info": {
   "codemirror_mode": {
    "name": "ipython",
    "version": 3
   },
   "file_extension": ".py",
   "mimetype": "text/x-python",
   "name": "python",
   "nbconvert_exporter": "python",
   "pygments_lexer": "ipython3",
   "version": "3.11.7"
  }
 },
 "nbformat": 4,
 "nbformat_minor": 5
}
